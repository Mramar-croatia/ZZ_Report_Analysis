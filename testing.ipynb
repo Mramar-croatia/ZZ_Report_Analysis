{
 "cells": [
  {
   "cell_type": "code",
   "execution_count": null,
   "metadata": {},
   "outputs": [
    {
     "name": "stderr",
     "output_type": "stream",
     "text": [
      "<>:8: SyntaxWarning: invalid escape sequence '\\z'\n",
      "<>:8: SyntaxWarning: invalid escape sequence '\\z'\n",
      "C:\\Users\\Lobel\\AppData\\Local\\Temp\\ipykernel_20764\\2588155385.py:8: SyntaxWarning: invalid escape sequence '\\z'\n",
      "  wb = load_workbook('SAMPLES\\zz_lista_volontera_24_25.xlsx', data_only=True)\n"
     ]
    }
   ],
   "source": [
    "from openpyxl import load_workbook\n",
    "from openpyxl.utils.cell import coordinate_from_string, column_index_from_string, get_column_letter\n",
    "import pandas as pd\n",
    "\n",
    "from loading import *\n",
    "\n",
    "# Load the workbook, data_only=True to get the values of the formulas not the formulas themselves\n",
    "wb = load_workbook('SAMPLES\\zz_lista_volontera_24_25.xlsx', data_only=True)\n",
    "\n",
    "sheets = wb.sheetnames"
   ]
  },
  {
   "cell_type": "code",
   "execution_count": 19,
   "metadata": {},
   "outputs": [
    {
     "name": "stdout",
     "output_type": "stream",
     "text": [
      "327\n"
     ]
    }
   ],
   "source": [
    "location_dfs = {}\n",
    "\n",
    "for sheet_name in sheets[1:]:\n",
    "    \n",
    "    sheet = wb[sheet_name]\n",
    "    location_name = location_dict[sheet_name]\n",
    "    \n",
    "    this_location_dict = {\n",
    "        'location_name': [],\n",
    "        'volunteer_name': [],\n",
    "        'volunteer_dates': [],\n",
    "        'volunteer_class': [],\n",
    "        'volunteer_school': []\n",
    "    }\n",
    "    \n",
    "    schools = load_all_schools(sheet)\n",
    "    \n",
    "    volunteer_df = pd.DataFrame(this_location_dict)\n",
    "    \n",
    "    for school_tuple in schools:\n",
    "        \n",
    "        school_name, school_range = school_tuple\n",
    "        \n",
    "        if schools.index((school_name, school_range)) == len(schools)-1:\n",
    "            next_school_start_row = sheet.max_row+1\n",
    "        else:\n",
    "            next_school_start_row = int(coordinate_from_string(schools[schools.index((school_name, school_range))+1][1][0])[1])\n",
    "            \n",
    "        classes = load_classes(sheet, school_tuple, next_school_start_row)\n",
    "        \n",
    "        for class_tuple in classes:\n",
    "            \n",
    "            if classes.index(class_tuple) == len(classes)-1:\n",
    "                next_class_start_row = next_school_start_row\n",
    "            else:\n",
    "                next_class_start_row = int(classes[classes.index(class_tuple)+1][1][1:])\n",
    "                \n",
    "            class_volunteer_df = load_volunteers(sheet, location_name, school_name, class_tuple, next_class_start_row)\n",
    "            \n",
    "            volunteer_df = pd.concat([volunteer_df, class_volunteer_df], ignore_index=True)\n",
    "            \n",
    "    location_dfs[location_name] = volunteer_df\n",
    "    \n",
    "# for i in location_dfs: display(location_dfs[i])\n",
    "    \n",
    "merged_list = [i['volunteer_dates'].sum() for i in location_dfs.values()]\n",
    "\n",
    "merged_list = [item for sublist in merged_list for item in sublist]\n",
    "\n",
    "print(len(merged_list))\n",
    "\n",
    "#k = list(location_dfs.values())[2]\n",
    "#count = k[k['volunteer_dates'].apply(lambda x: x == [])].shape[0]\n",
    "#print(len(k))\n",
    "#print(count)\n"
   ]
  },
  {
   "cell_type": "code",
   "execution_count": 15,
   "metadata": {},
   "outputs": [
    {
     "name": "stdout",
     "output_type": "stream",
     "text": [
      "[('1. razred', 'C12'), ('2. razred', 'C15'), ('3. razred', 'C19'), ('4. razred', 'C33')]\n"
     ]
    }
   ],
   "source": [
    "sheet = wb[sheets[3]]\n",
    "\n",
    "# schools = load_all_schools(sheet)\n",
    "\n",
    "# print(schools)\n",
    "    \n",
    "\n",
    "classes = load_classes(sheet, schools[0], coordinate_from_string(schools[1][1][0])[1])\n",
    "\n",
    "print(classes)\n",
    "\n",
    "# volunteers = load_volunteers(sheet, 'XV.', ('3. razred', 'C19'), 33)\n",
    "\n",
    "# display(volunteers)"
   ]
  },
  {
   "cell_type": "code",
   "execution_count": 16,
   "metadata": {},
   "outputs": [
    {
     "ename": "NameError",
     "evalue": "name 'volunteers' is not defined",
     "output_type": "error",
     "traceback": [
      "\u001b[1;31m---------------------------------------------------------------------------\u001b[0m",
      "\u001b[1;31mNameError\u001b[0m                                 Traceback (most recent call last)",
      "Cell \u001b[1;32mIn[16], line 1\u001b[0m\n\u001b[1;32m----> 1\u001b[0m \u001b[38;5;28;01mfor\u001b[39;00m i \u001b[38;5;129;01min\u001b[39;00m \u001b[43mvolunteers\u001b[49m[\u001b[38;5;124m'\u001b[39m\u001b[38;5;124mvolunteer_hours\u001b[39m\u001b[38;5;124m'\u001b[39m]:\n\u001b[0;32m      2\u001b[0m     \u001b[38;5;28;01mfor\u001b[39;00m j \u001b[38;5;129;01min\u001b[39;00m i:\n\u001b[0;32m      3\u001b[0m         \u001b[38;5;28mprint\u001b[39m(i, j\u001b[38;5;241m.\u001b[39mvalue)\n",
      "\u001b[1;31mNameError\u001b[0m: name 'volunteers' is not defined"
     ]
    }
   ],
   "source": [
    "for i in volunteers['volunteer_hours']:\n",
    "    for j in i:\n",
    "        print(i, j.value)"
   ]
  },
  {
   "cell_type": "code",
   "execution_count": null,
   "metadata": {},
   "outputs": [],
   "source": [
    "column_index_from_string(coordinate_from_string('B2')[0])"
   ]
  }
 ],
 "metadata": {
  "kernelspec": {
   "display_name": "ZZ_env",
   "language": "python",
   "name": "python3"
  },
  "language_info": {
   "codemirror_mode": {
    "name": "ipython",
    "version": 3
   },
   "file_extension": ".py",
   "mimetype": "text/x-python",
   "name": "python",
   "nbconvert_exporter": "python",
   "pygments_lexer": "ipython3",
   "version": "3.13.1"
  }
 },
 "nbformat": 4,
 "nbformat_minor": 2
}
