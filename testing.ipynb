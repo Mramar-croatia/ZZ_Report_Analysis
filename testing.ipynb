{
 "cells": [
  {
   "cell_type": "code",
   "execution_count": 380,
   "metadata": {},
   "outputs": [
    {
     "name": "stderr",
     "output_type": "stream",
     "text": [
      "<>:6: SyntaxWarning: invalid escape sequence '\\z'\n",
      "<>:6: SyntaxWarning: invalid escape sequence '\\z'\n",
      "C:\\Users\\Lobel\\AppData\\Local\\Temp\\ipykernel_28248\\1418260813.py:6: SyntaxWarning: invalid escape sequence '\\z'\n",
      "  wb = load_workbook('SAMPLES\\zz_lista_volontera_24_25.xlsx', data_only=True)\n"
     ]
    }
   ],
   "source": [
    "from openpyxl import load_workbook\n",
    "from openpyxl.utils.cell import coordinate_from_string, column_index_from_string, get_column_letter\n",
    "import pandas as pd\n",
    "\n",
    "from loading import *\n",
    "\n",
    "# Load the workbook, data_only=True to get the values of the formulas not the formulas themselves\n",
    "wb = load_workbook('SAMPLES\\zz_lista_volontera_24_25.xlsx', data_only=True)\n",
    "\n",
    "sheets = wb.sheetnames\n",
    "\n",
    "location_dict = {\n",
    "    'P': 'Peščenica',\n",
    "    'M': 'Špansko',\n",
    "    'T': 'Trešnjevka',\n",
    "    'J': 'Trešnjevka',\n",
    "    'D': 'Dubrava',\n",
    "    'Š': 'Špansko',\n",
    "}\n",
    "\n",
    "DATES_ROW = '7'"
   ]
  },
  {
   "cell_type": "code",
   "execution_count": null,
   "metadata": {},
   "outputs": [
    {
     "name": "stdout",
     "output_type": "stream",
     "text": [
      "54\n",
      "35\n"
     ]
    }
   ],
   "source": [
    "location_dfs = {}\n",
    "\n",
    "for sheet_name in sheets[1:]:\n",
    "    \n",
    "    sheet = wb[sheet_name]\n",
    "    location_name = location_dict[sheet_name]\n",
    "    \n",
    "    this_location_dict = {\n",
    "        'location_name': [],\n",
    "        'volunteer_name': [],\n",
    "        'volunteer_dates': [],\n",
    "        'volunteer_class': [],\n",
    "        'volunteer_school': []\n",
    "    }\n",
    "    \n",
    "    schools = load_all_schools(sheet)\n",
    "    \n",
    "    volunteer_df = pd.DataFrame(this_location_dict)\n",
    "    \n",
    "    for school_tuple in schools:\n",
    "        \n",
    "        school_name, school_range = school_tuple\n",
    "        \n",
    "        if schools.index((school_name, school_range)) == len(schools)-1:\n",
    "            next_school_start_row = sheet.max_row+1\n",
    "        else:\n",
    "            next_school_start_row = int(coordinate_from_string(schools[schools.index((school_name, school_range))+1][1][0])[1])\n",
    "            \n",
    "        classes = load_classes(sheet, school_tuple, next_school_start_row)\n",
    "        \n",
    "        for class_tuple in classes:\n",
    "            \n",
    "            if classes.index(class_tuple) == len(classes)-1:\n",
    "                next_class_start_row = next_school_start_row\n",
    "            else:\n",
    "                next_class_start_row = int(classes[classes.index(class_tuple)+1][1][1:])\n",
    "                \n",
    "            class_volunteer_df = load_volunteers(sheet, location_name, school_name, class_tuple, next_class_start_row)\n",
    "            \n",
    "            volunteer_df = pd.concat([volunteer_df, class_volunteer_df], ignore_index=True)\n",
    "            \n",
    "    location_dfs[location_name] = volunteer_df\n",
    "    \n",
    "# for i in location_dfs: display(location_dfs[i])\n",
    "    \n",
    "merged_list = [i['volunteer_dates'].sum() for i in location_dfs.values()]\n",
    "\n",
    "'''\n",
    "k = list(location_dfs.values())[2]\n",
    "count = k[k['volunteer_dates'].apply(lambda x: x == [])].shape[0]\n",
    "print(len(k))\n",
    "print(count)\n",
    "'''"
   ]
  },
  {
   "cell_type": "code",
   "execution_count": 383,
   "metadata": {},
   "outputs": [
    {
     "name": "stdout",
     "output_type": "stream",
     "text": [
      "[('1. razred', 'C12'), ('2. razred', 'C15'), ('3. razred', 'C19'), ('4. razred', 'C33')]\n"
     ]
    }
   ],
   "source": [
    "sheet = wb[sheets[3]]\n",
    "\n",
    "# schools = load_all_schools(sheet)\n",
    "\n",
    "# print(schools)\n",
    "    \n",
    "\n",
    "classes = load_classes(sheet, schools[0], coordinate_from_string(schools[1][1][0])[1])\n",
    "\n",
    "print(classes)\n",
    "\n",
    "# volunteers = load_volunteers(sheet, 'XV.', ('3. razred', 'C19'), 33)\n",
    "\n",
    "# display(volunteers)"
   ]
  },
  {
   "cell_type": "code",
   "execution_count": 384,
   "metadata": {},
   "outputs": [
    {
     "name": "stdout",
     "output_type": "stream",
     "text": [
      "[<Cell 'Š'.G7>, <Cell 'Š'.H7>, <Cell 'Š'.I7>, <Cell 'Š'.J7>, <Cell 'Š'.K7>, <Cell 'Š'.M7>] 16.10.2024.\n",
      "[<Cell 'Š'.G7>, <Cell 'Š'.H7>, <Cell 'Š'.I7>, <Cell 'Š'.J7>, <Cell 'Š'.K7>, <Cell 'Š'.M7>] 23.10.2024.\n",
      "[<Cell 'Š'.G7>, <Cell 'Š'.H7>, <Cell 'Š'.I7>, <Cell 'Š'.J7>, <Cell 'Š'.K7>, <Cell 'Š'.M7>] 30.10.2024.\n",
      "[<Cell 'Š'.G7>, <Cell 'Š'.H7>, <Cell 'Š'.I7>, <Cell 'Š'.J7>, <Cell 'Š'.K7>, <Cell 'Š'.M7>] 6.11.2024.\n",
      "[<Cell 'Š'.G7>, <Cell 'Š'.H7>, <Cell 'Š'.I7>, <Cell 'Š'.J7>, <Cell 'Š'.K7>, <Cell 'Š'.M7>] 13.11.2024.\n",
      "[<Cell 'Š'.G7>, <Cell 'Š'.H7>, <Cell 'Š'.I7>, <Cell 'Š'.J7>, <Cell 'Š'.K7>, <Cell 'Š'.M7>] 27.11.2024.\n",
      "[<Cell 'Š'.L7>, <Cell 'Š'.M7>] 20.11.2024.\n",
      "[<Cell 'Š'.L7>, <Cell 'Š'.M7>] 27.11.2024.\n"
     ]
    }
   ],
   "source": [
    "for i in volunteers['volunteer_hours']:\n",
    "    for j in i:\n",
    "        print(i, j.value)"
   ]
  },
  {
   "cell_type": "code",
   "execution_count": 385,
   "metadata": {},
   "outputs": [
    {
     "data": {
      "text/plain": [
       "2"
      ]
     },
     "execution_count": 385,
     "metadata": {},
     "output_type": "execute_result"
    }
   ],
   "source": [
    "column_index_from_string(coordinate_from_string('B2')[0])"
   ]
  }
 ],
 "metadata": {
  "kernelspec": {
   "display_name": "ZZ_env",
   "language": "python",
   "name": "python3"
  },
  "language_info": {
   "codemirror_mode": {
    "name": "ipython",
    "version": 3
   },
   "file_extension": ".py",
   "mimetype": "text/x-python",
   "name": "python",
   "nbconvert_exporter": "python",
   "pygments_lexer": "ipython3",
   "version": "3.13.1"
  }
 },
 "nbformat": 4,
 "nbformat_minor": 2
}
